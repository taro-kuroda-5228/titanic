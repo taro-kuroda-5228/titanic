{
 "cells": [
  {
   "cell_type": "code",
   "execution_count": 12,
   "id": "ce23ab2c-c204-427c-9954-e66aadd6f83e",
   "metadata": {},
   "outputs": [],
   "source": [
    "import numpy as np\n",
    "import pandas as pd\n",
    "import matplotlib.pyplot as plt\n",
    "import seaborn as sns\n",
    "\n",
    "# データセットの読み込み\n",
    "train_data = pd.read_csv('../data/input/train.csv')\n",
    "test_data = pd.read_csv('../data/input/test.csv')\n",
    "\n",
    "# train_dataとtest_dataの連結\n",
    "test_data['Survived'] = np.nan\n",
    "df = pd.concat([train_data, test_data], ignore_index=True, sort=False)"
   ]
  },
  {
   "cell_type": "code",
   "execution_count": 13,
   "id": "8f114b8f-95bf-45ea-86c3-df107e7fb4ec",
   "metadata": {},
   "outputs": [
    {
     "name": "stdout",
     "output_type": "stream",
     "text": [
      "<class 'pandas.core.frame.DataFrame'>\n",
      "RangeIndex: 1309 entries, 0 to 1308\n",
      "Data columns (total 12 columns):\n",
      " #   Column       Non-Null Count  Dtype  \n",
      "---  ------       --------------  -----  \n",
      " 0   PassengerId  1309 non-null   int64  \n",
      " 1   Survived     891 non-null    float64\n",
      " 2   Pclass       1309 non-null   int64  \n",
      " 3   Name         1309 non-null   object \n",
      " 4   Sex          1309 non-null   object \n",
      " 5   Age          1046 non-null   float64\n",
      " 6   SibSp        1309 non-null   int64  \n",
      " 7   Parch        1309 non-null   int64  \n",
      " 8   Ticket       1309 non-null   object \n",
      " 9   Fare         1308 non-null   float64\n",
      " 10  Cabin        295 non-null    object \n",
      " 11  Embarked     1307 non-null   object \n",
      "dtypes: float64(3), int64(4), object(5)\n",
      "memory usage: 122.8+ KB\n"
     ]
    },
    {
     "data": {
      "image/png": "[encoded data removed]",
      "text/plain": [
       "<Figure size 432x288 with 1 Axes>"
      ]
     },
     "metadata": {
      "needs_background": "light"
     },
     "output_type": "display_data"
    }
   ],
   "source": [
    "df.info()\n",
    "\n",
    "# Sexと生存率の関係 \n",
    "sns.barplot(x='Sex', y='Survived', data=df, palette='Set3')\n",
    "plt.show()"
   ]
  },
  {
   "cell_type": "code",
   "execution_count": 14,
   "id": "575d1932-b121-4ff4-8633-8bf127d72dea",
   "metadata": {},
   "outputs": [
    {
     "data": {
      "image/png": "[encoded data removed]",
      "text/plain": [
       "<Figure size 484x216 with 1 Axes>"
      ]
     },
     "metadata": {
      "needs_background": "light"
     },
     "output_type": "display_data"
    }
   ],
   "source": [
    "from sklearn.ensemble import RandomForestRegressor\n",
    "\n",
    "# 推定に使用する項目を指定\n",
    "age_df = df[['Age', 'Pclass','Sex','Parch','SibSp']]\n",
    "\n",
    "# ラベル特徴量をワンホットエンコーディング\n",
    "age_df=pd.get_dummies(age_df)\n",
    "\n",
    "# 学習データとテストデータに分離し、numpyに変換\n",
    "known_age = age_df[age_df.Age.notnull()].values  \n",
    "unknown_age = age_df[age_df.Age.isnull()].values\n",
    "\n",
    "# 学習データをX, yに分離\n",
    "X = known_age[:, 1:]  \n",
    "y = known_age[:, 0]\n",
    "#print(X)\n",
    "#print(y)\n",
    "\n",
    "# ランダムフォレストで推定モデルを構築\n",
    "rfr = RandomForestRegressor(random_state=0, n_estimators=100, n_jobs=-1)\n",
    "rfr.fit(X, y)\n",
    "\n",
    "# 推定モデルを使って、テストデータのAgeを予測し、補完\n",
    "predictedAges = rfr.predict(unknown_age[:, 1::])\n",
    "df.loc[(df.Age.isnull()), 'Age'] = predictedAges \n",
    "\n",
    "# 年齢別生存曲線と死亡曲線\n",
    "facet = sns.FacetGrid(df[0:890], hue=\"Survived\",aspect=2)\n",
    "facet.map(sns.kdeplot,'Age',shade= True)\n",
    "facet.set(xlim=(0, df.loc[0:890,'Age'].max()))\n",
    "facet.add_legend()\n",
    "plt.show()"
   ]
  },
  {
   "cell_type": "code",
   "execution_count": 15,
   "id": "7a882bb5-1013-4509-a3c0-1267fc13bcc8",
   "metadata": {},
   "outputs": [
    {
     "data": {
      "text/plain": [
       "<AxesSubplot:xlabel='Title', ylabel='Survived'>"
      ]
     },
     "execution_count": 15,
     "metadata": {},
     "output_type": "execute_result"
    },
    {
     "data": {
      "image/png": "[encoded data removed]",
      "text/plain": [
       "<Figure size 432x288 with 1 Axes>"
      ]
     },
     "metadata": {
      "needs_background": "light"
     },
     "output_type": "display_data"
    }
   ],
   "source": [
    "df['Title'] = df['Name'].map(lambda x: x.split(', ')[1].split('. ')[0])\n",
    "df['Title'].replace(['Capt', 'Col', 'Major', 'Dr', 'Rev'], 'Officer', inplace=True)\n",
    "df['Title'].replace(['Don', 'Sir',  'the Countess', 'Lady', 'Dona'], 'Royalty', inplace=True)\n",
    "df['Title'].replace(['Mme', 'Ms'], 'Mrs', inplace=True)\n",
    "df['Title'].replace(['Mlle'], 'Miss', inplace=True)\n",
    "df['Title'].replace(['Jonkheer'], 'Master', inplace=True)\n",
    "sns.barplot(x='Title', y='Survived', data=df, palette='Set3')"
   ]
  },
  {
   "cell_type": "code",
   "execution_count": 16,
   "id": "ffcc11d1-7722-418d-94dc-b6e574fba19c",
   "metadata": {},
   "outputs": [],
   "source": [
    "df['Surname'] = df['Name'].map(lambda name:name.split(',')[0].strip())\n",
    "\n",
    "# 同じSurname(苗字)の出現頻度をカウント(出現回数が2以上なら家族)\n",
    "df['FamilyGroup'] = df['Surname'].map(df['Surname'].value_counts()) "
   ]
  },
  {
   "cell_type": "code",
   "execution_count": 17,
   "id": "b7bc600c-dcd8-472e-b5ff-aa5998b73b4a",
   "metadata": {},
   "outputs": [
    {
     "data": {
      "text/html": [
       "<div>\n",
       "<style scoped>\n",
       "    .dataframe tbody tr th:only-of-type {\n",
       "        vertical-align: middle;\n",
       "    }\n",
       "\n",
       "    .dataframe tbody tr th {\n",
       "        vertical-align: top;\n",
       "    }\n",
       "\n",
       "    .dataframe thead th {\n",
       "        text-align: right;\n",
       "    }\n",
       "</style>\n",
       "<table border=\"1\" class=\"dataframe\">\n",
       "  <thead>\n",
       "    <tr style=\"text-align: right;\">\n",
       "      <th></th>\n",
       "      <th>PassengerId</th>\n",
       "      <th>Survived</th>\n",
       "      <th>Pclass</th>\n",
       "      <th>Name</th>\n",
       "      <th>Sex</th>\n",
       "      <th>Age</th>\n",
       "      <th>SibSp</th>\n",
       "      <th>Parch</th>\n",
       "      <th>Ticket</th>\n",
       "      <th>Fare</th>\n",
       "      <th>Cabin</th>\n",
       "      <th>Embarked</th>\n",
       "      <th>Title</th>\n",
       "      <th>Surname</th>\n",
       "      <th>FamilyGroup</th>\n",
       "    </tr>\n",
       "  </thead>\n",
       "  <tbody>\n",
       "    <tr>\n",
       "      <th>0</th>\n",
       "      <td>1</td>\n",
       "      <td>0.0</td>\n",
       "      <td>3</td>\n",
       "      <td>Braund, Mr. Owen Harris</td>\n",
       "      <td>male</td>\n",
       "      <td>22.0</td>\n",
       "      <td>1</td>\n",
       "      <td>0</td>\n",
       "      <td>A/5 21171</td>\n",
       "      <td>7.2500</td>\n",
       "      <td>NaN</td>\n",
       "      <td>S</td>\n",
       "      <td>Mr</td>\n",
       "      <td>Braund</td>\n",
       "      <td>2</td>\n",
       "    </tr>\n",
       "    <tr>\n",
       "      <th>1</th>\n",
       "      <td>2</td>\n",
       "      <td>1.0</td>\n",
       "      <td>1</td>\n",
       "      <td>Cumings, Mrs. John Bradley (Florence Briggs Th...</td>\n",
       "      <td>female</td>\n",
       "      <td>38.0</td>\n",
       "      <td>1</td>\n",
       "      <td>0</td>\n",
       "      <td>PC 17599</td>\n",
       "      <td>71.2833</td>\n",
       "      <td>C85</td>\n",
       "      <td>C</td>\n",
       "      <td>Mrs</td>\n",
       "      <td>Cumings</td>\n",
       "      <td>2</td>\n",
       "    </tr>\n",
       "    <tr>\n",
       "      <th>2</th>\n",
       "      <td>3</td>\n",
       "      <td>1.0</td>\n",
       "      <td>3</td>\n",
       "      <td>Heikkinen, Miss. Laina</td>\n",
       "      <td>female</td>\n",
       "      <td>26.0</td>\n",
       "      <td>0</td>\n",
       "      <td>0</td>\n",
       "      <td>STON/O2. 3101282</td>\n",
       "      <td>7.9250</td>\n",
       "      <td>NaN</td>\n",
       "      <td>S</td>\n",
       "      <td>Miss</td>\n",
       "      <td>Heikkinen</td>\n",
       "      <td>1</td>\n",
       "    </tr>\n",
       "    <tr>\n",
       "      <th>3</th>\n",
       "      <td>4</td>\n",
       "      <td>1.0</td>\n",
       "      <td>1</td>\n",
       "      <td>Futrelle, Mrs. Jacques Heath (Lily May Peel)</td>\n",
       "      <td>female</td>\n",
       "      <td>35.0</td>\n",
       "      <td>1</td>\n",
       "      <td>0</td>\n",
       "      <td>113803</td>\n",
       "      <td>53.1000</td>\n",
       "      <td>C123</td>\n",
       "      <td>S</td>\n",
       "      <td>Mrs</td>\n",
       "      <td>Futrelle</td>\n",
       "      <td>2</td>\n",
       "    </tr>\n",
       "    <tr>\n",
       "      <th>4</th>\n",
       "      <td>5</td>\n",
       "      <td>0.0</td>\n",
       "      <td>3</td>\n",
       "      <td>Allen, Mr. William Henry</td>\n",
       "      <td>male</td>\n",
       "      <td>35.0</td>\n",
       "      <td>0</td>\n",
       "      <td>0</td>\n",
       "      <td>373450</td>\n",
       "      <td>8.0500</td>\n",
       "      <td>NaN</td>\n",
       "      <td>S</td>\n",
       "      <td>Mr</td>\n",
       "      <td>Allen</td>\n",
       "      <td>2</td>\n",
       "    </tr>\n",
       "  </tbody>\n",
       "</table>\n",
       "</div>"
      ],
      "text/plain": [
       "   PassengerId  Survived  Pclass  \\\n",
       "0            1       0.0       3   \n",
       "1            2       1.0       1   \n",
       "2            3       1.0       3   \n",
       "3            4       1.0       1   \n",
       "4            5       0.0       3   \n",
       "\n",
       "                                                Name     Sex   Age  SibSp  \\\n",
       "0                            Braund, Mr. Owen Harris    male  22.0      1   \n",
       "1  Cumings, Mrs. John Bradley (Florence Briggs Th...  female  38.0      1   \n",
       "2                             Heikkinen, Miss. Laina  female  26.0      0   \n",
       "3       Futrelle, Mrs. Jacques Heath (Lily May Peel)  female  35.0      1   \n",
       "4                           Allen, Mr. William Henry    male  35.0      0   \n",
       "\n",
       "   Parch            Ticket     Fare Cabin Embarked Title    Surname  \\\n",
       "0      0         A/5 21171   7.2500   NaN        S    Mr     Braund   \n",
       "1      0          PC 17599  71.2833   C85        C   Mrs    Cumings   \n",
       "2      0  STON/O2. 3101282   7.9250   NaN        S  Miss  Heikkinen   \n",
       "3      0            113803  53.1000  C123        S   Mrs   Futrelle   \n",
       "4      0            373450   8.0500   NaN        S    Mr      Allen   \n",
       "\n",
       "   FamilyGroup  \n",
       "0            2  \n",
       "1            2  \n",
       "2            1  \n",
       "3            2  \n",
       "4            2  "
      ]
     },
     "execution_count": 17,
     "metadata": {},
     "output_type": "execute_result"
    }
   ],
   "source": [
    "df.head()"
   ]
  },
  {
   "cell_type": "code",
   "execution_count": 18,
   "id": "73f972a1-61ef-430a-893f-efa3e5d25f93",
   "metadata": {},
   "outputs": [
    {
     "name": "stdout",
     "output_type": "stream",
     "text": [
      "1.000000    113\n",
      "0.000000     32\n",
      "0.750000      2\n",
      "0.500000      1\n",
      "0.333333      1\n",
      "0.142857      1\n",
      "Name: Survived, dtype: int64\n"
     ]
    }
   ],
   "source": [
    "Female_Child_Group=df.loc[(df['FamilyGroup']>=2) & ((df['Age']<=16) | (df['Sex']=='female'))]\n",
    "Female_Child_Group=Female_Child_Group.groupby('Surname')['Survived'].mean()\n",
    "print(Female_Child_Group.value_counts())"
   ]
  },
  {
   "cell_type": "code",
   "execution_count": 19,
   "id": "bcc8fa1f-333d-47f0-9d34-e5b167e9f06e",
   "metadata": {},
   "outputs": [
    {
     "name": "stdout",
     "output_type": "stream",
     "text": [
      "0.000000    115\n",
      "1.000000     21\n",
      "0.500000      6\n",
      "0.333333      2\n",
      "0.250000      1\n",
      "Name: Survived, dtype: int64\n"
     ]
    }
   ],
   "source": [
    "Male_Adult_Group=df.loc[(df['FamilyGroup']>=2) & (df['Age']>16) & (df['Sex']=='male')]\n",
    "Male_Adult_List=Male_Adult_Group.groupby('Surname')['Survived'].mean()\n",
    "print(Male_Adult_List.value_counts())"
   ]
  },
  {
   "cell_type": "code",
   "execution_count": 20,
   "id": "1222b97d-9a02-4d84-afa9-2a3614df878c",
   "metadata": {},
   "outputs": [
    {
     "name": "stdout",
     "output_type": "stream",
     "text": [
      "Dead_list =  {'Jussila', 'Barbara', 'Van Impe', 'Strom', 'Bourke', 'Robins', 'Rice', 'Palsson', 'Ilmakangas', 'Skoog', 'Danbom', 'Goodwin', 'Zabour', 'Elias', 'Attalah', 'Olsson', 'Sage', 'Oreskovic', 'Vander Planke', 'Rosblom', 'Cacic', 'Turpin', 'Johnston', 'Canavan', 'Boulos', 'Arnold-Franchi', 'Lobb', 'Panula', 'Lefebre', 'Lahtinen', 'Ford', 'Caram'}\n",
      "Survived_list =  {'Jussila', 'Bradley', 'Beckwith', 'Chambers', 'Harder', 'Kimball', 'Frolicher-Stehli', 'Daly', 'Bishop', 'Nakid', 'Goldenberg', 'Cardeza', 'Jonsson', 'Taylor', 'Greenfield', 'McCoy', 'Dick', 'Frauenthal', 'Duff Gordon', 'Moubarek', 'Beane'}\n"
     ]
    }
   ],
   "source": [
    "Dead_list=set(Female_Child_Group[Female_Child_Group.apply(lambda x:x==0)].index)\n",
    "Survived_list=set(Male_Adult_List[Male_Adult_List.apply(lambda x:x==1)].index)\n",
    "\n",
    "# デッドリストとサバイブリストの表示\n",
    "print('Dead_list = ', Dead_list)\n",
    "print('Survived_list = ', Survived_list)"
   ]
  },
  {
   "cell_type": "code",
   "execution_count": 21,
   "id": "a840c3fa-9409-4568-8f65-784e05e88efb",
   "metadata": {},
   "outputs": [],
   "source": [
    "df.loc[(df['Survived'].isnull()) & (df['Surname'].apply(lambda x:x in Dead_list)),\\\n",
    "             ['Sex','Age','Title']] = ['male',28.0,'Mr']\n",
    "df.loc[(df['Survived'].isnull()) & (df['Surname'].apply(lambda x:x in Survived_list)),\\\n",
    "             ['Sex','Age','Title']] = ['female',5.0,'Mrs']"
   ]
  },
  {
   "cell_type": "code",
   "execution_count": 22,
   "id": "c29c636f-9ad7-4bc6-a084-8de49cdfa49c",
   "metadata": {},
   "outputs": [],
   "source": [
    "fare=df.loc[(df['Embarked'] == 'S') & (df['Pclass'] == 3), 'Fare'].median()\n",
    "df['Fare']=df['Fare'].fillna(fare)"
   ]
  },
  {
   "cell_type": "code",
   "execution_count": 23,
   "id": "1ba40f85-abe0-4ab3-87ed-2150dada9b80",
   "metadata": {},
   "outputs": [],
   "source": [
    "df['Family']=df['SibSp']+df['Parch']+1\n",
    "df.loc[(df['Family']>=2) & (df['Family']<=4), 'Family_label'] = 2\n",
    "df.loc[(df['Family']>=5) & (df['Family']<=7) | (df['Family']==1), 'Family_label'] = 1  # == に注意\n",
    "df.loc[(df['Family']>=8), 'Family_label'] = 0"
   ]
  },
  {
   "cell_type": "code",
   "execution_count": 24,
   "id": "70814f86-9518-4d12-b737-224ba60b9ce7",
   "metadata": {},
   "outputs": [
    {
     "data": {
      "image/png": "[encoded data removed]",
      "text/plain": [
       "<Figure size 432x288 with 1 Axes>"
      ]
     },
     "metadata": {
      "needs_background": "light"
     },
     "output_type": "display_data"
    }
   ],
   "source": [
    "Ticket_Count = dict(df['Ticket'].value_counts())\n",
    "df['TicketGroup'] = df['Ticket'].map(Ticket_Count)\n",
    "sns.barplot(x='TicketGroup', y='Survived', data=df, palette='Set3')\n",
    "plt.show()"
   ]
  },
  {
   "cell_type": "code",
   "execution_count": 25,
   "id": "c735ceab-316a-4771-b0ca-090478cec527",
   "metadata": {},
   "outputs": [
    {
     "data": {
      "image/png": "[encoded data removed]",
      "text/plain": [
       "<Figure size 432x288 with 1 Axes>"
      ]
     },
     "metadata": {
      "needs_background": "light"
     },
     "output_type": "display_data"
    }
   ],
   "source": [
    "df.loc[(df['TicketGroup']>=2) & (df['TicketGroup']<=4), 'Ticket_label'] = 2\n",
    "df.loc[(df['TicketGroup']>=5) & (df['TicketGroup']<=8) | (df['TicketGroup']==1), 'Ticket_label'] = 1  \n",
    "df.loc[(df['TicketGroup']>=11), 'Ticket_label'] = 0\n",
    "sns.barplot(x='Ticket_label', y='Survived', data=df, palette='Set3')\n",
    "plt.show()"
   ]
  },
  {
   "cell_type": "code",
   "execution_count": 26,
   "id": "45848843-fc4b-4c48-bb98-129b9f49da83",
   "metadata": {},
   "outputs": [
    {
     "data": {
      "image/png": "[encoded data removed]",
      "text/plain": [
       "<Figure size 432x288 with 1 Axes>"
      ]
     },
     "metadata": {
      "needs_background": "light"
     },
     "output_type": "display_data"
    }
   ],
   "source": [
    "df['Cabin'] = df['Cabin'].fillna('Unknown')\n",
    "df['Cabin_label']=df['Cabin'].str.get(0)\n",
    "sns.barplot(x='Cabin_label', y='Survived', data=df, palette='Set3')\n",
    "plt.show()"
   ]
  },
  {
   "cell_type": "code",
   "execution_count": 27,
   "id": "f247c816-8ee4-49b1-a432-361d35d1e763",
   "metadata": {},
   "outputs": [],
   "source": [
    "df['Embarked'] = df['Embarked'].fillna('S') \n"
   ]
  },
  {
   "cell_type": "code",
   "execution_count": 28,
   "id": "607fea6d-2a3d-4184-aac8-c526801b4f36",
   "metadata": {},
   "outputs": [],
   "source": [
    "df = df[['Survived','Pclass','Sex','Age','Fare','Embarked','Title','Family_label','Cabin_label','Ticket_label']]\n",
    "\n",
    "# ラベル特徴量をワンホットエンコーディング\n",
    "df = pd.get_dummies(df)\n",
    "\n",
    "# データセットを trainとtestに分割\n",
    "train = df[df['Survived'].notnull()]\n",
    "test = df[df['Survived'].isnull()].drop('Survived',axis=1)\n",
    "\n",
    "# データフレームをnumpyに変換\n",
    "X = train.values[:,1:]  \n",
    "y = train.values[:,0] \n",
    "test_x = test.values"
   ]
  },
  {
   "cell_type": "code",
   "execution_count": 29,
   "id": "84d742b9-5bb6-4b7c-a505-8a07e342eb0e",
   "metadata": {},
   "outputs": [
    {
     "name": "stderr",
     "output_type": "stream",
     "text": [
      "C:\\Users\\User\\anaconda3\\lib\\site-packages\\sklearn\\feature_selection\\_univariate_selection.py:114: UserWarning: Features [23] are constant.\n",
      "  warnings.warn(\"Features %s are constant.\" % constant_features_idx,\n",
      "C:\\Users\\User\\anaconda3\\lib\\site-packages\\sklearn\\feature_selection\\_univariate_selection.py:116: RuntimeWarning: invalid value encountered in true_divide\n",
      "  f = msb / msw\n"
     ]
    },
    {
     "name": "stdout",
     "output_type": "stream",
     "text": [
      "mean_score =  0.8395006242197255\n",
      "mean_std =  0.049770983038016456\n"
     ]
    }
   ],
   "source": [
    "from sklearn.feature_selection import SelectKBest\n",
    "from sklearn.ensemble import RandomForestClassifier\n",
    "from sklearn.pipeline import make_pipeline\n",
    "from sklearn.model_selection import cross_validate\n",
    "\n",
    "# 採用する特徴量を25個から20個に絞り込む\n",
    "select = SelectKBest(k = 20)\n",
    "\n",
    "clf = RandomForestClassifier(random_state = 10, \n",
    "                             warm_start = True,  # 既にフィットしたモデルに学習を追加 \n",
    "                             n_estimators = 26,\n",
    "                             max_depth = 6, \n",
    "                             max_features = 'sqrt')\n",
    "pipeline = make_pipeline(select, clf)\n",
    "pipeline.fit(X, y)\n",
    "\n",
    "# フィット結果の表示\n",
    "cv_result = cross_validate(pipeline, X, y, cv= 10)\n",
    "print('mean_score = ', np.mean(cv_result['test_score']))\n",
    "print('mean_std = ', np.std(cv_result['test_score']))"
   ]
  },
  {
   "cell_type": "code",
   "execution_count": 30,
   "id": "53bbd6d4-cbff-44b5-aca3-a38ed83464a5",
   "metadata": {},
   "outputs": [
    {
     "name": "stdout",
     "output_type": "stream",
     "text": [
      "No1 Pclass = True\n",
      "No2 Age = True\n",
      "No3 Fare = True\n",
      "No4 Family_label = True\n",
      "No5 Ticket_label = True\n",
      "No6 Sex_female = True\n",
      "No7 Sex_male = True\n",
      "No8 Embarked_C = True\n",
      "No9 Embarked_Q = False\n",
      "No10 Embarked_S = True\n",
      "No11 Title_Master = True\n",
      "No12 Title_Miss = True\n",
      "No13 Title_Mr = True\n",
      "No14 Title_Mrs = True\n",
      "No15 Title_Officer = False\n",
      "No16 Title_Royalty = True\n",
      "No17 Cabin_label_A = False\n",
      "No18 Cabin_label_B = True\n",
      "No19 Cabin_label_C = True\n",
      "No20 Cabin_label_D = True\n",
      "No21 Cabin_label_E = True\n",
      "No22 Cabin_label_F = True\n",
      "No23 Cabin_label_G = False\n",
      "No24 Cabin_label_T = False\n",
      "No25 Cabin_label_U = True\n",
      "X.shape=(891, 25), X_selected.shape=(891, 20)\n"
     ]
    }
   ],
   "source": [
    "mask= select.get_support()\n",
    "\n",
    "# 項目のリスト\n",
    "list_col = list(df.columns[1:])\n",
    "\n",
    "# 項目別の採用可否の一覧表\n",
    "for i, j in enumerate(list_col):\n",
    "    print('No'+str(i+1), j,'=',  mask[i])\n",
    "\n",
    "# シェイプの確認\n",
    "X_selected = select.transform(X)\n",
    "print('X.shape={}, X_selected.shape={}'.format(X.shape, X_selected.shape))"
   ]
  },
  {
   "cell_type": "code",
   "execution_count": 31,
   "id": "4c629abb-c209-41a5-8682-4814a0ee0191",
   "metadata": {},
   "outputs": [],
   "source": [
    "PassengerId=test_data['PassengerId']\n",
    "predictions = pipeline.predict(test_x)\n",
    "submission = pd.DataFrame({\"PassengerId\": PassengerId, \"Survived\": predictions.astype(np.int32)})\n",
    "submission.to_csv(\"my_submission.csv\", index=False)"
   ]
  },
  {
   "cell_type": "code",
   "execution_count": null,
   "id": "2734a685-f709-405a-b699-b7486d08edb4",
   "metadata": {},
   "outputs": [],
   "source": []
  }
 ],
 "metadata": {
  "kernelspec": {
   "display_name": "Python 3",
   "language": "python",
   "name": "python3"
  },
  "language_info": {
   "codemirror_mode": {
    "name": "ipython",
    "version": 3
   },
   "file_extension": ".py",
   "mimetype": "text/x-python",
   "name": "python",
   "nbconvert_exporter": "python",
   "pygments_lexer": "ipython3",
   "version": "3.8.8"
  }
 },
 "nbformat": 4,
 "nbformat_minor": 5
}
